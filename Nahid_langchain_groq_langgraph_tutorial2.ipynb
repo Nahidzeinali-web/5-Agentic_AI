{
 "cells": [
  {
   "cell_type": "markdown",
   "id": "a5dd1b6c",
   "metadata": {},
   "source": [
    "# 🧠 LangChain + LangGraph + Groq Tutorial: Tool-Enhanced LLM Workflow\n",
    "\n",
    "This tutorial shows how to:\n",
    "- Set up an LLM from Groq (`deepseek-r1-distill-llama-70b`)\n",
    "- Create and bind custom tools (math, search, finance)\n",
    "- Use `LangGraph` to manage tool calling workflows\n",
    "- Visualize and test a tool-augmented agent\n",
    "- Extend to real-world tasks like stock analysis and query resolution\n"
   ]
  },
  {
   "cell_type": "code",
   "execution_count": 1,
   "id": "cf3ea445",
   "metadata": {},
   "outputs": [
    {
     "name": "stdout",
     "output_type": "stream",
     "text": [
      "<think>\n",
      "Okay, so I need to figure out the length of the Great Wall of China. I remember hearing that it's really long, but I'm not exactly sure how long. I think it's somewhere in the thousands of miles, but I'm not certain. Let me try to break this down.\n",
      "\n",
      "First, I know the Great Wall is a series of fortifications built across several Chinese dynasties. It wasn't built all at once, so maybe that's why the length can vary. I've heard different numbers before, like 13,000 miles or 21,000 kilometers. But I'm not sure which one is accurate.\n",
      "\n",
      "I should consider the sources of this information. Maybe some people measure it differently. For example, if you include all the branches and sections, it might add up to a longer distance. But if you just take the main wall, it might be shorter. I think the Chinese government did a survey a while back, so that might be a reliable source.\n",
      "\n",
      "Wait, I think they used advanced technology like GPS and satellites to measure it more accurately. That would make sense because older measurements might have been estimates. So, if the official measurement is around 13,171 miles, that's probably the most accurate number now.\n",
      "\n",
      "But I also remember hearing that some sections are overlapping or that the wall isn't one continuous structure. It has different parts built in different times, so maybe that's why the total length adds up to more than just a straight line. Each section was built for specific purposes, like protecting certain areas or controlling trade routes.\n",
      "\n",
      "I should also think about the units. The user asked for the length, and I can provide it in both miles and kilometers since the question didn't specify. That way, it's more helpful for everyone. So, 13,171 miles is about 21,196 kilometers. That seems right because 1 mile is approximately 1.609 kilometers, so multiplying 13,171 by 1.609 should give around 21,196.\n",
      "\n",
      "I wonder if there are any other factors that could affect the measurement. Maybe some parts are missing or have been destroyed over time, so the current length might be less than the original. But the survey probably accounts for all existing sections, whether they're in good condition or not.\n",
      "\n",
      "Also, the Great Wall isn't just one wall; it's a collection of walls built over centuries. So, adding up all those segments would give the total length. It's impressive that it's so long, considering the time and resources it took to build without modern machinery.\n",
      "\n",
      "In summary, the most accurate measurement I can find is approximately 13,171 miles or 21,196 kilometers. This comes from a comprehensive survey that accounted for all the sections, including the branches and overlapping parts. So, that's the length of the Great Wall of China.\n",
      "</think>\n",
      "\n",
      "The Great Wall of China is approximately 13,171 miles (21,196 kilometers) long. This measurement was determined by a comprehensive survey that included all sections, branches, and overlapping parts, providing an accurate total length of this historic structure.\n"
     ]
    }
   ],
   "source": [
    "from langchain_groq import ChatGroq\n",
    "\n",
    "llm = ChatGroq(\n",
    "    model_name=\"deepseek-r1-distill-llama-70b\",\n",
    "    temperature=0\n",
    ")\n",
    "\n",
    "response = llm.invoke(\"what is length of wall of china?\")\n",
    "print(response.content)\n"
   ]
  },
  {
   "cell_type": "markdown",
   "id": "ac56c961",
   "metadata": {},
   "source": [
    "## 🧰 Define Custom Math Tools"
   ]
  },
  {
   "cell_type": "code",
   "execution_count": 3,
   "id": "cbf99651",
   "metadata": {},
   "outputs": [],
   "source": [
    "from langchain.tools import tool\n",
    "\n",
    "@tool\n",
    "def multiply(a: int, b: int) -> int:\n",
    "    \"\"\"\n",
    "    Multiply two integers.\n",
    "\n",
    "    Args:\n",
    "        a (int): The first integer.\n",
    "        b (int): The second integer.\n",
    "\n",
    "    Returns:\n",
    "        int: The product of a and b.\n",
    "    \"\"\"\n",
    "    return a * b\n",
    "\n",
    "@tool\n",
    "def add(a: int, b: int) -> int:\n",
    "    \"\"\"\n",
    "    Add two integers.\n",
    "\n",
    "    Args:\n",
    "        a (int): The first integer.\n",
    "        b (int): The second integer.\n",
    "\n",
    "    Returns:\n",
    "        int: The sum of a and b.\n",
    "    \"\"\"\n",
    "    return a + b\n",
    "\n",
    "@tool\n",
    "def divide(a: int, b: int) -> float:\n",
    "    \"\"\"\n",
    "    Divide two integers.\n",
    "\n",
    "    Args:\n",
    "        a (int): The numerator.\n",
    "        b (int): The denominator (must not be 0).\n",
    "\n",
    "    Returns:\n",
    "        float: The result of division.\n",
    "    \"\"\"\n",
    "    if b == 0:\n",
    "        raise ValueError(\"Denominator cannot be zero.\")\n",
    "    return a / b"
   ]
  },
  {
   "cell_type": "markdown",
   "id": "5277c74c",
   "metadata": {},
   "source": [
    "## 🌍 Add Built-In Search Tool"
   ]
  },
  {
   "cell_type": "code",
   "execution_count": 4,
   "id": "ab54877d",
   "metadata": {},
   "outputs": [
    {
     "name": "stdout",
     "output_type": "stream",
     "text": [
      "Apple has just released iOS 17.6.1, the latest iPhone software update. If you're getting a sense of déjà vu, you have good reason. That's because Apple launched iOS 17.6.1 already, on August ... The newly released iOS 17.7 is Apple's way of offering important security updates to users who choose not to upgrade to iOS 18 just yet. On your iPhone, you can find the new software update by ... We get new iPhone colors every year, and while we don't know what colors to expect for the iPhone 17 models just yet, Apple undoubtedly has something fresh in the works. Apple's next major release, the iPhone 17 series, is shaping up to be one of its most exciting launches in years. With a mix of cutting-edge design, powerful new hardware, and a shift in strategy for its product lineup, there's a lot more happening under the surface than usual. Here's everything you need to know about the latest updates, features, and when you can expect to get your ... • The iPhone 17's display may not match what the Pro model offers. • iOS 26, Apple's iPhone software update for later this year, got a preview at WWDC. • The iPhone 17 could support a new ...\n"
     ]
    }
   ],
   "source": [
    "from langchain_community.tools import DuckDuckGoSearchRun\n",
    "\n",
    "search = DuckDuckGoSearchRun()\n",
    "print(search.invoke(\"what is the latest update on iphone17 release?\"))\n"
   ]
  },
  {
   "cell_type": "markdown",
   "id": "1de16626",
   "metadata": {},
   "source": [
    "## 🛠️ Bind Tools to LLM"
   ]
  },
  {
   "cell_type": "code",
   "execution_count": null,
   "id": "8e717b8a",
   "metadata": {},
   "outputs": [],
   "source": [
    "tools = [multiply, add, divide, search]\n",
    "llm_with_tools = llm.bind_tools(tools)\n",
    "\n"
   ]
  },
  {
   "cell_type": "markdown",
   "id": "4206ae5f",
   "metadata": {},
   "source": [
    "## 📥 Tool Invocation Examples"
   ]
  },
  {
   "cell_type": "code",
   "execution_count": 12,
   "id": "43511c75",
   "metadata": {},
   "outputs": [
    {
     "data": {
      "text/plain": [
       "''"
      ]
     },
     "execution_count": 12,
     "metadata": {},
     "output_type": "execute_result"
    }
   ],
   "source": [
    "response=llm_with_tools.invoke(\"what is 10/2?\")\n",
    "response.content"
   ]
  },
  {
   "cell_type": "code",
   "execution_count": 13,
   "id": "616bd329",
   "metadata": {},
   "outputs": [
    {
     "data": {
      "text/plain": [
       "[{'name': 'divide',\n",
       "  'args': {'a': 10, 'b': 2},\n",
       "  'id': 'kmwzvddpe',\n",
       "  'type': 'tool_call'}]"
      ]
     },
     "execution_count": 13,
     "metadata": {},
     "output_type": "execute_result"
    }
   ],
   "source": [
    "response.tool_calls"
   ]
  },
  {
   "cell_type": "code",
   "execution_count": 14,
   "id": "017d6cda",
   "metadata": {},
   "outputs": [
    {
     "data": {
      "text/plain": [
       "AIMessage(content='', additional_kwargs={'tool_calls': [{'id': 'yjgk6xt8q', 'function': {'arguments': '{\"query\":\"TATA Group founding year\"}', 'name': 'duckduckgo_search'}, 'type': 'function'}]}, response_metadata={'token_usage': {'completion_tokens': 298, 'prompt_tokens': 402, 'total_tokens': 700, 'completion_time': 1.232588635, 'prompt_time': 0.035551437, 'queue_time': 0.22008251400000003, 'total_time': 1.268140072}, 'model_name': 'deepseek-r1-distill-llama-70b', 'system_fingerprint': 'fp_1bbe7845ec', 'finish_reason': 'tool_calls', 'logprobs': None}, id='run--fd9fceb0-8004-48c8-9e01-85a32503e4d4-0', tool_calls=[{'name': 'duckduckgo_search', 'args': {'query': 'TATA Group founding year'}, 'id': 'yjgk6xt8q', 'type': 'tool_call'}], usage_metadata={'input_tokens': 402, 'output_tokens': 298, 'total_tokens': 700})"
      ]
     },
     "execution_count": 14,
     "metadata": {},
     "output_type": "execute_result"
    }
   ],
   "source": [
    "response=llm_with_tools.invoke(\"what is a current age of the TATA Group?\")\n",
    "response"
   ]
  },
  {
   "cell_type": "code",
   "execution_count": 15,
   "id": "34045e62",
   "metadata": {},
   "outputs": [
    {
     "data": {
      "text/plain": [
       "''"
      ]
     },
     "execution_count": 15,
     "metadata": {},
     "output_type": "execute_result"
    }
   ],
   "source": [
    "response.content"
   ]
  },
  {
   "cell_type": "code",
   "execution_count": 16,
   "id": "4adfeed7",
   "metadata": {},
   "outputs": [
    {
     "data": {
      "text/plain": [
       "[{'name': 'duckduckgo_search',\n",
       "  'args': {'query': 'TATA Group founding year'},\n",
       "  'id': 'yjgk6xt8q',\n",
       "  'type': 'tool_call'}]"
      ]
     },
     "execution_count": 16,
     "metadata": {},
     "output_type": "execute_result"
    }
   ],
   "source": [
    "response.tool_calls"
   ]
  },
  {
   "cell_type": "code",
   "execution_count": 27,
   "id": "8823fd58",
   "metadata": {},
   "outputs": [
    {
     "data": {
      "image/png": "[encoded data removed]",
      "text/plain": [
       "<IPython.core.display.Image object>"
      ]
     },
     "metadata": {},
     "output_type": "display_data"
    }
   ],
   "source": [
    "# 📦 Step 1: Import required modules and components\n",
    "from langchain_core.messages import HumanMessage, SystemMessage\n",
    "from langgraph.graph import MessagesState, StateGraph, START, END\n",
    "from langgraph.prebuilt import ToolNode, tools_condition\n",
    "from IPython.display import Image, display\n",
    "\n",
    "# 📌 Step 2: Define the system prompt to guide LLM behavior\n",
    "SYSTEM_PROMPT = \"You are a helpful assistant tasked with using search and performing arithmetic on a set of inputs.\"\n",
    "\n",
    "# 🧩 Step 3: Define the LLM decision-making function\n",
    "def function_1(state: MessagesState):\n",
    "    # Extract user message(s) from the current graph state\n",
    "    user_question = state[\"messages\"]\n",
    "\n",
    "    # Combine system prompt with user input\n",
    "    input_question = [SYSTEM_PROMPT] + user_question\n",
    "\n",
    "    # Call the LLM with tools enabled\n",
    "    response = llm_with_tools.invoke(input_question)\n",
    "\n",
    "    # Return the updated message list\n",
    "    return {\"messages\": [response]}\n",
    "\n",
    "# 🧪 Step 4: (Optional) Simulate a sample user query for manual testing\n",
    "user_query = [\"tell me what is 2+2\"]\n",
    "[SYSTEM_PROMPT] + user_query  # This line is just for inspection/debugging\n",
    "\n",
    "# 🏗️ Step 5: Initialize a LangGraph state machine using message-based state\n",
    "builder = StateGraph(MessagesState)\n",
    "\n",
    "# 🔧 Step 6: Add the LLM decision node to the graph\n",
    "builder.add_node(\"llm_decision_step\", function_1)\n",
    "\n",
    "# ⚙️ Step 7: Add the tool node (make sure `tools` is defined, e.g., [add, search, get_stock_price])\n",
    "builder.add_node(\"tools\", ToolNode(tools))\n",
    "\n",
    "# 🔀 Step 8: Define the flow of execution between nodes\n",
    "builder.add_edge(START, \"llm_decision_step\")  # Start from the LLM node\n",
    "builder.add_conditional_edges(\"llm_decision_step\", tools_condition)  # Branch to tools if needed\n",
    "builder.add_edge(\"tools\", \"llm_decision_step\")  # Return to LLM after tool use\n",
    "\n",
    "# ✅ Step 9: Compile the LangGraph into an executable graph\n",
    "react_graph = builder.compile()\n",
    "\n",
    "# 📊 Step 10: Visualize the graph as a Mermaid diagram\n",
    "display(Image(react_graph.get_graph().draw_mermaid_png()))\n"
   ]
  },
  {
   "cell_type": "code",
   "execution_count": 29,
   "id": "4d93f208",
   "metadata": {},
   "outputs": [
    {
     "data": {
      "text/plain": [
       "{'messages': [HumanMessage(content=\"What is 2 times of narendramodi's age?\", additional_kwargs={}, response_metadata={}, id='1b3c8774-dc4d-4165-ae57-143d7271f820'),\n",
       "  AIMessage(content='', additional_kwargs={'tool_calls': [{'id': 'mmjdwp7ba', 'function': {'arguments': '{\"query\":\"Narendra Modi age\"}', 'name': 'duckduckgo_search'}, 'type': 'function'}]}, response_metadata={'token_usage': {'completion_tokens': 308, 'prompt_tokens': 423, 'total_tokens': 731, 'completion_time': 1.12, 'prompt_time': 0.027269262, 'queue_time': 0.22872984700000001, 'total_time': 1.147269262}, 'model_name': 'deepseek-r1-distill-llama-70b', 'system_fingerprint': 'fp_1bbe7845ec', 'finish_reason': 'tool_calls', 'logprobs': None}, id='run--3fe2d11f-ce90-47f9-961f-b8980cef2c23-0', tool_calls=[{'name': 'duckduckgo_search', 'args': {'query': 'Narendra Modi age'}, 'id': 'mmjdwp7ba', 'type': 'tool_call'}], usage_metadata={'input_tokens': 423, 'output_tokens': 308, 'total_tokens': 731}),\n",
       "  ToolMessage(content='Narendra Modi (born September 17, 1950, Vadnagar, India) is an Indian politician and government official who rose to become a senior leader of the Bharatiya Janata Party (BJP). In 2014 he led his party to victory in elections to the Lok Sabha (lower chamber of the Indian parliament), after which he was sworn in as prime minister of India.Prior to that he had served (2001-14) as chief ... Narendra Modi Biography. Prime Minister Narendra Modi:Narendra Modi, born on September 17, 1950, in Vadnagar, Gujarat, India, is an Indian politician who has served as the Prime Minister of India since May 2014. He belongs to the Bharatiya Janata Party (BJP), a right-wing political party in India. Modi\\'s rise to political prominence is marked ... Learn about the life and achievements of Narendra Modi, the 14th Prime Minister of India, who was born on September 17, 1950, in Gujarat. Find out his full name, mother, father, wife, education, party, and net worth here. Narendra Modi (born 17 September 1950) is an Indian Politician, 14th Prime Minister of India, and BJP leader from Vadnagar, Gujarat, India. His political. Menu. ... He got married at a very young age. In 1968, Narendra Modi tied the knot with his wife named \"Jashodaben Narendrabhai Modi (aka Jashodaben Chimanlal Modi)\". The couple has no ... Narendra Modi was born on September 17, 1950, in Vadnagar, a town in the state of Gujarat, India. He was the third of six children born to Damodardas Mulchand Modi, a street vendor, and Heeraben Modi, his nurturing mother. From an early age, Modi showed a keen sense of discipline and determination.', name='duckduckgo_search', id='a6df8d0d-8043-4357-874c-f29265bd1fdc', tool_call_id='mmjdwp7ba'),\n",
       "  AIMessage(content=\"To find 2 times Narendra Modi's age:\\n\\n1. **Determine Narendra Modi's age**:  \\n   Narendra Modi was born on September 17, 1950. As of 2023, he is 73 years old.\\n\\n2. **Multiply his age by 2**:  \\n   \\\\( 73 \\\\times 2 = 146 \\\\)\\n\\n**Answer**: 146\", additional_kwargs={}, response_metadata={'token_usage': {'completion_tokens': 246, 'prompt_tokens': 874, 'total_tokens': 1120, 'completion_time': 0.894545455, 'prompt_time': 0.063630774, 'queue_time': 0.21677861199999998, 'total_time': 0.958176229}, 'model_name': 'deepseek-r1-distill-llama-70b', 'system_fingerprint': 'fp_1bbe7845ec', 'finish_reason': 'stop', 'logprobs': None}, id='run--0f9c5e02-e6bc-42b4-b5e2-4e90aba15805-0', usage_metadata={'input_tokens': 874, 'output_tokens': 246, 'total_tokens': 1120})]}"
      ]
     },
     "execution_count": 29,
     "metadata": {},
     "output_type": "execute_result"
    }
   ],
   "source": [
    "message=[HumanMessage(content=\"What is 2 times of narendramodi's age?\")]\n",
    "react_graph.invoke({\"messages\":message})"
   ]
  },
  {
   "cell_type": "code",
   "execution_count": 31,
   "id": "62b300df",
   "metadata": {},
   "outputs": [
    {
     "data": {
      "text/plain": [
       "{'messages': [HumanMessage(content='How much is the net worth of Elon Musk, and divide it by 2?', additional_kwargs={}, response_metadata={}, id='31d1f1fa-d085-45c0-9383-72cf0a273c4f'),\n",
       "  AIMessage(content='', additional_kwargs={'tool_calls': [{'id': 'cd6t40gww', 'function': {'arguments': '{\"query\":\"Elon Musk net worth 2023\"}', 'name': 'duckduckgo_search'}, 'type': 'function'}]}, response_metadata={'token_usage': {'completion_tokens': 602, 'prompt_tokens': 427, 'total_tokens': 1029, 'completion_time': 2.189090909, 'prompt_time': 0.034060192, 'queue_time': 0.216800267, 'total_time': 2.223151101}, 'model_name': 'deepseek-r1-distill-llama-70b', 'system_fingerprint': 'fp_1bbe7845ec', 'finish_reason': 'tool_calls', 'logprobs': None}, id='run--3734afb3-6a9a-49ea-a718-3e7940b44156-0', tool_calls=[{'name': 'duckduckgo_search', 'args': {'query': 'Elon Musk net worth 2023'}, 'id': 'cd6t40gww', 'type': 'tool_call'}], usage_metadata={'input_tokens': 427, 'output_tokens': 602, 'total_tokens': 1029}),\n",
       "  ToolMessage(content=\"View net worth over: Max 1 year 1 quarter ... He renamed the company X Corp. in April 2023. Musk was the largest financial backer of Donald Trump's presidential campaign during the 2024 election ... Elon Musk's net worth dropped by $34 billion in the midst of his major feud with President Donald Trump, bringing his personal fortune down to $334.5 billion, according to Bloomberg. The wealthiest among them is Elon Musk, CEO of Tesla and SpaceX. ... Net Worth: $379 billion; Tesla Ownership Stake: 13% ($142 billion) ... Musk founded xAI in 2023. It is an artificial ... Musk owns an estimated 54% of xAI, which he founded in 2023. Private investors valued the company at a reported $50 billion in November 2024. ... Elon Musk's net worth fell by the equivalent of ... Elon Musk Net worth: $423 billion Source: Tesla, SpaceX, xAI, X Age: 53 Residence: Austin, Texas Citizenship: U.S. ... Musk became the world's richest person again on June 8, 2023 and held onto the number one spot for the remainder of 2023. He fell to No. 2 on January 31, 2024.\", name='duckduckgo_search', id='8b829001-e621-437d-8d23-bc8aa83098bc', tool_call_id='cd6t40gww'),\n",
       "  AIMessage(content='', additional_kwargs={'tool_calls': [{'id': 'eeg987k1m', 'function': {'arguments': '{\"a\":423,\"b\":2}', 'name': 'divide'}, 'type': 'function'}]}, response_metadata={'token_usage': {'completion_tokens': 92, 'prompt_tokens': 744, 'total_tokens': 836, 'completion_time': 0.334545455, 'prompt_time': 0.048460559, 'queue_time': 0.21945960799999997, 'total_time': 0.383006014}, 'model_name': 'deepseek-r1-distill-llama-70b', 'system_fingerprint': 'fp_1bbe7845ec', 'finish_reason': 'tool_calls', 'logprobs': None}, id='run--434ee267-24b2-49b4-83ad-af99052af2fb-0', tool_calls=[{'name': 'divide', 'args': {'a': 423, 'b': 2}, 'id': 'eeg987k1m', 'type': 'tool_call'}], usage_metadata={'input_tokens': 744, 'output_tokens': 92, 'total_tokens': 836}),\n",
       "  ToolMessage(content='211.5', name='divide', id='d99049ee-478c-4573-bfb5-a7e441a673a4', tool_call_id='eeg987k1m'),\n",
       "  AIMessage(content=\"Elon Musk's net worth is $423 billion. Dividing this by 2 gives:\\n\\n\\\\[\\n\\\\boxed{211.5 \\\\text{ billion}}\\n\\\\]\", additional_kwargs={}, response_metadata={'token_usage': {'completion_tokens': 179, 'prompt_tokens': 799, 'total_tokens': 978, 'completion_time': 0.650909091, 'prompt_time': 0.052329881, 'queue_time': 0.219360886, 'total_time': 0.703238972}, 'model_name': 'deepseek-r1-distill-llama-70b', 'system_fingerprint': 'fp_1bbe7845ec', 'finish_reason': 'stop', 'logprobs': None}, id='run--1e920ec7-5930-4905-be96-dd09ddab61a8-0', usage_metadata={'input_tokens': 799, 'output_tokens': 179, 'total_tokens': 978})]}"
      ]
     },
     "execution_count": 31,
     "metadata": {},
     "output_type": "execute_result"
    }
   ],
   "source": [
    "message = [HumanMessage(content=\"How much is the net worth of Elon Musk, and divide it by 2?\")]\n",
    "react_graph.invoke({\"messages\":message})"
   ]
  },
  {
   "cell_type": "code",
   "execution_count": 33,
   "id": "7ebc181a",
   "metadata": {},
   "outputs": [
    {
     "data": {
      "text/plain": [
       "'The speed of light in meters per second is 299,792,458 m/s. When multiplied by 10, the result is 2,997,924,580 m/s. \\n\\n**Step-by-Step Explanation:**\\n\\n1. **Identify the Speed of Light:**\\n   - The speed of light in a vacuum is exactly 299,792,458 meters per second (m/s).\\n\\n2. **Multiply by 10:**\\n   - To find ten times the speed of light, multiply 299,792,458 m/s by 10.\\n   - Calculation: 299,792,458 m/s * 10 = 2,997,924,580 m/s.\\n\\n3. **Final Result:**\\n   - The result of multiplying the speed of light by 10 is 2,997,924,580 m/s.\\n\\nThis process ensures that the calculation is accurate and follows the correct mathematical operations.'"
      ]
     },
     "execution_count": 33,
     "metadata": {},
     "output_type": "execute_result"
    }
   ],
   "source": [
    "message = [HumanMessage(content=\"What is the speed of light in m/s and multiply it by 10?\")]\n",
    "response=react_graph.invoke({\"messages\":message})\n",
    "response[\"messages\"][-1].content"
   ]
  },
  {
   "cell_type": "code",
   "execution_count": 34,
   "id": "f9d8a3d2",
   "metadata": {},
   "outputs": [
    {
     "name": "stdout",
     "output_type": "stream",
     "text": [
      "================================\u001b[1m Human Message \u001b[0m=================================\n",
      "\n",
      "What is the speed of light in m/s and multiply it by 10?\n",
      "==================================\u001b[1m Ai Message \u001b[0m==================================\n",
      "Tool Calls:\n",
      "  multiply (mpv48yn2b)\n",
      " Call ID: mpv48yn2b\n",
      "  Args:\n",
      "    a: 299792000\n",
      "    b: 10\n",
      "=================================\u001b[1m Tool Message \u001b[0m=================================\n",
      "Name: multiply\n",
      "\n",
      "2997920000\n",
      "==================================\u001b[1m Ai Message \u001b[0m==================================\n",
      "Tool Calls:\n",
      "  multiply (avcy9z692)\n",
      " Call ID: avcy9z692\n",
      "  Args:\n",
      "    a: 299792000\n",
      "    b: 10\n",
      "=================================\u001b[1m Tool Message \u001b[0m=================================\n",
      "Name: multiply\n",
      "\n",
      "2997920000\n",
      "==================================\u001b[1m Ai Message \u001b[0m==================================\n",
      "\n",
      "The speed of light in meters per second is 299,792,458 m/s. When multiplied by 10, the result is 2,997,924,580 m/s. \n",
      "\n",
      "**Step-by-Step Explanation:**\n",
      "\n",
      "1. **Identify the Speed of Light:**\n",
      "   - The speed of light in a vacuum is exactly 299,792,458 meters per second (m/s).\n",
      "\n",
      "2. **Multiply by 10:**\n",
      "   - To find ten times the speed of light, multiply 299,792,458 m/s by 10.\n",
      "   - Calculation: 299,792,458 m/s * 10 = 2,997,924,580 m/s.\n",
      "\n",
      "3. **Final Result:**\n",
      "   - The result of multiplying the speed of light by 10 is 2,997,924,580 m/s.\n",
      "\n",
      "This process ensures that the calculation is accurate and follows the correct mathematical operations.\n"
     ]
    }
   ],
   "source": [
    "for m in response[\"messages\"]:\n",
    "    m.pretty_print()"
   ]
  },
  {
   "cell_type": "markdown",
   "id": "255c3ce0",
   "metadata": {},
   "source": [
    "# 🔧Tool-Augmented LLM Workflow with LangGraph\n",
    "\n",
    "This notebook shows how to build a tool-augmented LLM system using LangGraph. The system supports arithmetic operations, web search, and stock price lookups."
   ]
  },
  {
   "cell_type": "code",
   "execution_count": 53,
   "id": "3aa172a0",
   "metadata": {},
   "outputs": [],
   "source": [
    "import yfinance as yf\n",
    "@tool\n",
    "def get_stock_price(ticker:str)->str:\n",
    "    \"\"\"\n",
    "    Fetches the previous closing price of a given stock ticker from Yahoo Finance.\n",
    "\n",
    "    Args:\n",
    "        ticker (str): The stock ticker symbol (e.g., 'AAPL', 'TSLA', 'NIFTY.BO').\n",
    "\n",
    "    Returns:\n",
    "        str: A message with the stock's previous closing price.\n",
    "    \"\"\"\n",
    "    try:\n",
    "        stock = yf.Ticker(ticker)\n",
    "        price = stock.info.get('previousClose')\n",
    "        if price is None:\n",
    "            return f\"Could not fetch price for ticker '{ticker}'.\"\n",
    "        return f\"The last closing price of {ticker.upper()} was ${price:.2f}.\"\n",
    "    except Exception as e:\n",
    "        return f\"An error occurred while fetching stock data: {str(e)}\"\n",
    "     "
   ]
  },
  {
   "cell_type": "code",
   "execution_count": 54,
   "id": "cf664afd",
   "metadata": {},
   "outputs": [
    {
     "data": {
      "text/plain": [
       "'The last closing price of AAPL was $196.58.'"
      ]
     },
     "execution_count": 54,
     "metadata": {},
     "output_type": "execute_result"
    }
   ],
   "source": [
    "get_stock_price.invoke(\"AAPL\")"
   ]
  },
  {
   "cell_type": "code",
   "execution_count": 55,
   "id": "cb21e754",
   "metadata": {},
   "outputs": [
    {
     "data": {
      "text/plain": [
       "'The last closing price of TSLA was $322.05.'"
      ]
     },
     "execution_count": 55,
     "metadata": {},
     "output_type": "execute_result"
    }
   ],
   "source": [
    "get_stock_price.invoke(\"TSLA\")"
   ]
  },
  {
   "cell_type": "code",
   "execution_count": 56,
   "id": "e9a5ea6c",
   "metadata": {},
   "outputs": [
    {
     "data": {
      "text/plain": [
       "[StructuredTool(name='get_stock_price', description=\"Fetches the previous closing price of a given stock ticker from Yahoo Finance.\\n\\nArgs:\\n    ticker (str): The stock ticker symbol (e.g., 'AAPL', 'TSLA', 'NIFTY.BO').\\n\\nReturns:\\n    str: A message with the stock's previous closing price.\", args_schema=<class 'langchain_core.utils.pydantic.get_stock_price'>, func=<function get_stock_price at 0x000001974CDB7E20>)]"
      ]
     },
     "execution_count": 56,
     "metadata": {},
     "output_type": "execute_result"
    }
   ],
   "source": [
    "tools"
   ]
  },
  {
   "cell_type": "code",
   "execution_count": 58,
   "id": "7018c094",
   "metadata": {},
   "outputs": [
    {
     "data": {
      "text/plain": [
       "''"
      ]
     },
     "execution_count": 58,
     "metadata": {},
     "output_type": "execute_result"
    }
   ],
   "source": [
    "tools = [add, multiply, divide, search,get_stock_price]\n",
    "llm_with_tools=llm.bind_tools(tools)\n",
    "response=llm_with_tools.invoke(\"can you give me a latest stock price of adani greens?\")\n",
    "response.content"
   ]
  },
  {
   "cell_type": "code",
   "execution_count": 59,
   "id": "613d0322",
   "metadata": {},
   "outputs": [
    {
     "data": {
      "text/plain": [
       "[{'name': 'get_stock_price',\n",
       "  'args': {'ticker': 'ADANIGREEN.NS'},\n",
       "  'id': '0xcvtp3gw',\n",
       "  'type': 'tool_call'}]"
      ]
     },
     "execution_count": 59,
     "metadata": {},
     "output_type": "execute_result"
    }
   ],
   "source": [
    "response.tool_calls"
   ]
  },
  {
   "cell_type": "code",
   "execution_count": 60,
   "id": "9116a9c3",
   "metadata": {},
   "outputs": [],
   "source": [
    "SYSTEM_PROMPT = SystemMessage(\n",
    "    content=\"You are a helpful assistant tasked with using search, the yahoo finance tool and performing arithmetic on a set of inputs.\"\n",
    ")\n",
    "def function_1(state:MessagesState):\n",
    "    \n",
    "    user_question=state[\"messages\"]\n",
    "    \n",
    "    input_question = [SYSTEM_PROMPT]+user_question\n",
    "    \n",
    "    response = llm_with_tools.invoke(input_question)\n",
    "    \n",
    "    return {\n",
    "        \"messages\":[response]\n",
    "    }"
   ]
  },
  {
   "cell_type": "code",
   "execution_count": 62,
   "id": "951f6926",
   "metadata": {},
   "outputs": [
    {
     "data": {
      "image/png": "[encoded data removed]",
      "text/plain": [
       "<IPython.core.display.Image object>"
      ]
     },
     "metadata": {},
     "output_type": "display_data"
    }
   ],
   "source": [
    "\n",
    "from langgraph.prebuilt import ToolNode, tools_condition\n",
    "from langgraph.graph import MessagesState, StateGraph, START, END\n",
    "builder = StateGraph(MessagesState)\n",
    "\n",
    "\n",
    "\n",
    "builder.add_node(\"llm_decision_step\", function_1)\n",
    "builder.add_node(\"tools\", ToolNode(tools))\n",
    "builder.add_edge(START, \"llm_decision_step\")\n",
    "builder.add_conditional_edges(\"llm_decision_step\", tools_condition)\n",
    "builder.add_edge(\"tools\", \"llm_decision_step\")\n",
    "react_graph = builder.compile()\n",
    "from IPython.display import Image, display\n",
    "display(Image(react_graph.get_graph().draw_mermaid_png()))"
   ]
  },
  {
   "cell_type": "code",
   "execution_count": 63,
   "id": "d3e19d87",
   "metadata": {},
   "outputs": [
    {
     "name": "stdout",
     "output_type": "stream",
     "text": [
      "================================\u001b[1m Human Message \u001b[0m=================================\n",
      "\n",
      "add 1000 in the current stock price of Apple.\n",
      "==================================\u001b[1m Ai Message \u001b[0m==================================\n",
      "Tool Calls:\n",
      "  get_stock_price (meekyqqdb)\n",
      " Call ID: meekyqqdb\n",
      "  Args:\n",
      "    ticker: AAPL\n",
      "=================================\u001b[1m Tool Message \u001b[0m=================================\n",
      "Name: get_stock_price\n",
      "\n",
      "The last closing price of AAPL was $196.58.\n",
      "==================================\u001b[1m Ai Message \u001b[0m==================================\n",
      "Tool Calls:\n",
      "  get_stock_price (43knvpqyq)\n",
      " Call ID: 43knvpqyq\n",
      "  Args:\n",
      "    ticker: AAPL\n",
      "=================================\u001b[1m Tool Message \u001b[0m=================================\n",
      "Name: get_stock_price\n",
      "\n",
      "The last closing price of AAPL was $196.58.\n",
      "==================================\u001b[1m Ai Message \u001b[0m==================================\n",
      "\n",
      "The last closing price of AAPL was $196.58. Adding 1000 to this price:\n",
      "\n",
      "196.58 + 1000 = 1196.58\n",
      "\n",
      "So, the result is **$1,196.58**.\n"
     ]
    }
   ],
   "source": [
    "# Step 8: Test the system\n",
    "from langchain_core.messages import HumanMessage\n",
    "message = [HumanMessage(content=\"add 1000 in the current stock price of Apple.\")]\n",
    "response = react_graph.invoke({\"messages\": message})\n",
    "for m in response['messages']:\n",
    "    m.pretty_print()"
   ]
  },
  {
   "cell_type": "markdown",
   "id": "f63ede34",
   "metadata": {},
   "source": [
    "Assignment:\n",
    "    \n",
    "AI Travel Agent & Expense Planner(Purpose: Trip planning for any city worldwide with Realtime data.\")\n",
    "\n",
    "• Real-time weather information\n",
    "• Top attractions and activities\n",
    "• Hotel cost calculation (per day × total days)\n",
    "• Currency conversion to user's native currency\n",
    "• Complete itinerary generation\n",
    "• Total expense calculation\n",
    "• generate a summary of the entire output\n",
    "\n",
    "user_input\n",
    "  |\n",
    "search attraction and activity\n",
    "1. search attracation\n",
    "2. search restaurant\n",
    "3. search activity\n",
    "4. search transportation\n",
    "  |\n",
    "search weather forcasting\n",
    "1. get current weather\n",
    "2. get weather forcast\n",
    "  |\n",
    "search hotel costs\n",
    "1. search hotel\n",
    "2. estimate the hotel cost\n",
    "3. budget_range\n",
    "  |\n",
    "calculate total cost\n",
    "1. add\n",
    "2. multiply\n",
    "3. calculated total cost\n",
    "4. calcualte the daily budget\n",
    "    | \n",
    "currency_converion\n",
    "1. get exchnage rate\n",
    "2. convert currancy\n",
    "    | \n",
    "Itinery generation\n",
    "1. get day plan\n",
    "2. crete full itinery\n",
    "    |\n",
    "create Trip Summary\n",
    "    |\n",
    "Retun complete traval plan\n",
    "\n",
    "Note: if you know the OOPS then design this entire system using object and class in modular fashion.\n",
    "\n",
    "\n",
    "deadline is till next friday 9PM IST\n",
    "\n",
    "\n",
    " everyone you can submit the assignments in this form. MAke sure to have one GitHub link and put all the assignments there https://forms.gle/g8RZ4qx8yvNcih4B7    \n",
    "    "
   ]
  },
  {
   "cell_type": "markdown",
   "id": "4eaa04e3",
   "metadata": {},
   "source": []
  }
 ],
 "metadata": {
  "kernelspec": {
   "display_name": "Python 3",
   "language": "python",
   "name": "python3"
  },
  "language_info": {
   "codemirror_mode": {
    "name": "ipython",
    "version": 3
   },
   "file_extension": ".py",
   "mimetype": "text/x-python",
   "name": "python",
   "nbconvert_exporter": "python",
   "pygments_lexer": "ipython3",
   "version": "3.12.0"
  }
 },
 "nbformat": 4,
 "nbformat_minor": 5
}
